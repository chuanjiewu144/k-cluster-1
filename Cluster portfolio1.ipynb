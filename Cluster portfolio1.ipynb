{
  "nbformat": 4,
  "nbformat_minor": 0,
  "metadata": {
    "colab": {
      "provenance": [],
      "authorship_tag": "ABX9TyOsr9OW9XaKud0T9wIClRiO",
      "include_colab_link": true
    },
    "kernelspec": {
      "name": "python3",
      "display_name": "Python 3"
    },
    "language_info": {
      "name": "python"
    }
  },
  "cells": [
    {
      "cell_type": "markdown",
      "metadata": {
        "id": "view-in-github",
        "colab_type": "text"
      },
      "source": [
        "<a href=\"https://colab.research.google.com/github/chuanjiewu144/k-cluster-1/blob/main/Untitled2.ipynb\" target=\"_parent\"><img src=\"https://colab.research.google.com/assets/colab-badge.svg\" alt=\"Open In Colab\"/></a>"
      ]
    },
    {
      "cell_type": "code",
      "execution_count": 15,
      "metadata": {
        "id": "XI5WSsZPMiSP"
      },
      "outputs": [],
      "source": [
        "#!pip install yfinance\n",
        "from pandas_datareader import data \n",
        "import matplotlib.pyplot as plt\n",
        "import pandas as pd\n",
        "import datetime\n",
        "import numpy as np\n",
        "import plotly.graph_objects as go\n",
        "import yfinance as yfin\n"
      ]
    },
    {
      "cell_type": "code",
      "source": [
        "companies_dict = {\n",
        "    'Amazon':'AMZN',\n",
        "    'Apple':'AAPL',\n",
        "    'Walgreen':'WBA',\n",
        "    'Northrop Grumman':'NOC',\n",
        "    'Boeing':'BA',\n",
        "    'Lockheed Martin':'LMT',\n",
        "    'McDonalds':'MCD',\n",
        "    'Intel':'INTC',\n",
        "    'IBM':'IBM',\n",
        "    'Texas Instruments':'TXN',\n",
        "    'MasterCard':'MA',\n",
        "    'Microsoft':'MSFT',\n",
        "    'General Electrics':'GE',\n",
        "    'American Express':'AXP',\n",
        "    'Pepsi':'PEP',\n",
        "    'Coca Cola':'KO',\n",
        "    'Johnson & Johnson':'JNJ',\n",
        "    'Toyota':'TM',\n",
        "    'Honda':'HMC',\n",
        "    'Exxon':'XOM',\n",
        "    'Chevron':'CVX',\n",
        "    'Valero Energy':'VLO',\n",
        "    'Ford':'F',\n",
        "    'Bank of America':'BAC'}"
      ],
      "metadata": {
        "id": "OK6rkk-oOwzU"
      },
      "execution_count": 89,
      "outputs": []
    },
    {
      "cell_type": "code",
      "source": [
        "yfin.pdr_override()\n",
        "from datetime import datetime"
      ],
      "metadata": {
        "id": "pd4M9iEZVUDc"
      },
      "execution_count": 90,
      "outputs": []
    },
    {
      "cell_type": "code",
      "source": [
        "data_source = 'yahoo'\n",
        "start_date = '2018-01-03'\n",
        "end_date = '2021-12-31'\n",
        "\n",
        "df = yfin.download(list(companies_dict.values()),start_date, end_date, auto_adjust=True)['Close']"
      ],
      "metadata": {
        "colab": {
          "base_uri": "https://localhost:8080/"
        },
        "id": "hI1ItMEcO9u6",
        "outputId": "c1fa5ac6-261e-48e7-ad6c-821bbc68e8e3"
      },
      "execution_count": 109,
      "outputs": [
        {
          "output_type": "stream",
          "name": "stdout",
          "text": [
            "[*********************100%***********************]  24 of 24 completed\n"
          ]
        }
      ]
    },
    {
      "cell_type": "code",
      "source": [
        "df.head"
      ],
      "metadata": {
        "colab": {
          "base_uri": "https://localhost:8080/"
        },
        "id": "s0QUQaI4PJ64",
        "outputId": "85436696-290c-47e9-bc79-1ed2b44d170c"
      },
      "execution_count": 110,
      "outputs": [
        {
          "output_type": "execute_result",
          "data": {
            "text/plain": [
              "<bound method NDFrame.head of                   AAPL        AMZN         AXP          BA        BAC  \\\n",
              "Date                                                                    \n",
              "2018-01-03   40.943359   60.209999   92.389641  283.801239  26.715496   \n",
              "2018-01-04   41.133541   60.479500   93.926376  282.724396  27.065128   \n",
              "2018-01-05   41.601864   61.457001   94.140587  294.322327  27.190636   \n",
              "2018-01-08   41.447338   62.343498   93.274437  295.570709  27.002373   \n",
              "2018-01-09   41.442596   62.634998   93.619041  303.461517  27.136843   \n",
              "...                ...         ...         ...         ...        ...   \n",
              "2021-12-23  175.262802  171.068497  161.527832  204.220001  43.409248   \n",
              "2021-12-27  179.289459  169.669495  161.724579  203.169998  43.624245   \n",
              "2021-12-28  178.255447  170.660995  161.744263  206.130005  43.682880   \n",
              "2021-12-29  178.344925  169.201004  161.173676  203.660004  43.614475   \n",
              "2021-12-30  177.171738  168.644501  161.498306  202.710007  43.516747   \n",
              "\n",
              "                   CVX          F          GE        HMC         IBM  ...  \\\n",
              "Date                                                                  ...   \n",
              "2018-01-03  103.206955  10.576623  104.250267  30.578962  117.779625  ...   \n",
              "2018-01-04  102.885719  10.758976  106.432930  31.167864  120.165100  ...   \n",
              "2018-01-05  102.717079  10.941334  106.490379  31.308496  120.752174  ...   \n",
              "2018-01-08  103.223022  10.899888  104.996971  31.466715  121.480431  ...   \n",
              "2018-01-09  102.668892  10.841867  106.605247  31.220600  121.747971  ...   \n",
              "...                ...        ...         ...        ...         ...  ...   \n",
              "2021-12-23  112.362503  19.610645   73.065529  27.305986  122.947388  ...   \n",
              "2021-12-27  114.659752  20.143280   73.547447  27.432404  123.879166  ...   \n",
              "2021-12-28  114.437737  20.104544   74.076012  27.422680  124.829773  ...   \n",
              "2021-12-29  113.848953  19.910856   73.679596  27.403231  125.507423  ...   \n",
              "2021-12-30  113.347031  19.823698   73.609634  27.461576  126.034492  ...   \n",
              "\n",
              "                    MA         MCD        MSFT         NOC         PEP  \\\n",
              "Date                                                                     \n",
              "2018-01-03  149.468933  153.247101   81.317062  282.996002  101.771965   \n",
              "2018-01-04  151.402679  154.322128   82.032784  284.749420  102.273239   \n",
              "2018-01-05  154.541275  154.633118   83.049835  284.444885  102.567116   \n",
              "2018-01-08  155.008469  154.526520   83.134590  284.481781  101.979378   \n",
              "2018-01-09  155.232300  154.180008   83.078094  286.447449  102.057175   \n",
              "...                ...         ...         ...         ...         ...   \n",
              "2021-12-23  357.898804  260.124176  331.583038  375.679962  165.355911   \n",
              "2021-12-27  357.630829  262.363953  339.270996  378.676178  167.001892   \n",
              "2021-12-28  358.097321  262.011841  338.082153  379.779999  167.868683   \n",
              "2021-12-29  358.603516  262.608459  338.775635  379.444946  168.462799   \n",
              "2021-12-30  358.305756  261.356537  336.170044  378.991547  168.170609   \n",
              "\n",
              "                    TM         TXN        VLO        WBA        XOM  \n",
              "Date                                                                 \n",
              "2018-01-03  130.130005   94.216423  74.332504  63.028599  66.663124  \n",
              "2018-01-04  132.160004   94.094772  74.571541  59.764896  66.755409  \n",
              "2018-01-05  133.860001   94.815956  74.922150  60.866711  66.701576  \n",
              "2018-01-08  134.770004   95.267784  75.073532  61.642998  67.001450  \n",
              "2018-01-09  133.720001   95.919472  74.977898  61.284081  66.716972  \n",
              "...                ...         ...        ...        ...        ...  \n",
              "2021-12-23  183.779999  180.957245  69.247520  48.247772  58.691692  \n",
              "2021-12-27  185.899994  185.244629  70.599060  48.486713  59.528500  \n",
              "2021-12-28  184.750000  184.530060  71.921646  49.155762  59.336132  \n",
              "2021-12-29  183.679993  184.250031  72.066460  49.939499  58.816734  \n",
              "2021-12-30  184.080002  182.898148  71.709259  49.691002  58.470470  \n",
              "\n",
              "[1006 rows x 24 columns]>"
            ]
          },
          "metadata": {},
          "execution_count": 110
        }
      ]
    },
    {
      "cell_type": "code",
      "source": [
        "from pylab import plot,show\n",
        "from numpy import vstack,array\n",
        "from numpy.random import rand\n",
        "import numpy as np\n",
        "from scipy.cluster.vq import kmeans,vq\n",
        "import pandas_datareader as dr\n",
        "from math import sqrt\n",
        "from sklearn.cluster import KMeans\n",
        "from matplotlib import pyplot as plt"
      ],
      "metadata": {
        "id": "9G56YhM8wk93"
      },
      "execution_count": 113,
      "outputs": []
    },
    {
      "cell_type": "code",
      "source": [
        "#Calculate average annual percentage return and volatilities over a theoretical one year period\n",
        "\n",
        "returns = df.pct_change().mean() * 252\n",
        "returns = pd.DataFrame(returns)\n",
        "\n",
        "returns.columns = ['Returns']\n",
        "returns['Volatility'] = df.pct_change().std() * sqrt(252)\n",
        "\n",
        "#format the data as a numpy array to feed into the K-Means algorithm\n",
        "data = np.asarray([np.asarray(returns['Returns']),np.asarray(returns['Volatility'])]).T\n",
        "#removing NaN values, replacing them by 0\n",
        "cleaned_data = np.where(np.isnan(data), 0, data)\n",
        "cleaned_data"
      ],
      "metadata": {
        "colab": {
          "base_uri": "https://localhost:8080/"
        },
        "id": "gDzN1WumwW7o",
        "outputId": "5d4db4f2-f74a-43db-90a3-d0c57b4ee83d"
      },
      "execution_count": 115,
      "outputs": [
        {
          "output_type": "execute_result",
          "data": {
            "text/plain": [
              "array([[ 0.42178168,  0.32907786],\n",
              "       [ 0.30701446,  0.31203859],\n",
              "       [ 0.21106913,  0.3804645 ],\n",
              "       [ 0.05042579,  0.51926094],\n",
              "       [ 0.18775092,  0.36231756],\n",
              "       [ 0.08997703,  0.36281215],\n",
              "       [ 0.23719707,  0.40167374],\n",
              "       [ 0.01650895,  0.45609352],\n",
              "       [ 0.00648741,  0.25893653],\n",
              "       [ 0.05760589,  0.28387114],\n",
              "       [ 0.13059773,  0.37807373],\n",
              "       [ 0.10128588,  0.21666046],\n",
              "       [ 0.12163171,  0.22064754],\n",
              "       [ 0.0877126 ,  0.27107953],\n",
              "       [ 0.27498044,  0.33433371],\n",
              "       [ 0.16506021,  0.24997217],\n",
              "       [ 0.40070539,  0.29856474],\n",
              "       [ 0.11307622,  0.28239007],\n",
              "       [ 0.15212842,  0.22853432],\n",
              "       [ 0.11038984,  0.21654665],\n",
              "       [ 0.21927465,  0.32525906],\n",
              "       [ 0.10828331,  0.48762713],\n",
              "       [-0.00168465,  0.339653  ],\n",
              "       [ 0.02321114,  0.33509799]])"
            ]
          },
          "metadata": {},
          "execution_count": 115
        }
      ]
    },
    {
      "cell_type": "code",
      "source": [
        "from sklearn.cluster import KMeans\n",
        "X = cleaned_data\n",
        "#within cluster sum of squares.we calculate the sum of squares of the distance of each data point \n",
        "# in cluster k from their center point ki.\n",
        "wcss = []\n",
        "for k in range(2, 20):\n",
        "    k_means = KMeans(n_clusters=k)\n",
        "    k_means.fit(X)\n",
        "    wcss.append(k_means.inertia_)\n",
        "\n",
        "fig = plt.figure(figsize=(15, 5))\n",
        "plt.plot(range(2, 20), wcss)\n",
        "plt.grid(True)\n",
        "plt.title('Elbow curve')\n",
        "plt.show()"
      ],
      "metadata": {
        "colab": {
          "base_uri": "https://localhost:8080/",
          "height": 336
        },
        "id": "-gLzqewNwrj8",
        "outputId": "b7c35cce-6c0b-4b8c-cf05-4ec4a1541595"
      },
      "execution_count": 116,
      "outputs": [
        {
          "output_type": "display_data",
          "data": {
            "text/plain": [
              "<Figure size 1080x360 with 1 Axes>"
            ],
            "image/png": "[encoded data removed]"
          },
          "metadata": {
            "needs_background": "light"
          }
        }
      ]
    },
    {
      "cell_type": "code",
      "source": [
        "#the change in slope of curve is not significant after k=5. Hence we select no. of clusters to be 5\n",
        "\n",
        "# computing K-Means with K = 5 (5 clusters)\n",
        "centroids,_ = kmeans(cleaned_data,5)\n",
        "# assign each sample to a cluster\n",
        "idx,_ = vq(cleaned_data,centroids)\n",
        " \n",
        "data = cleaned_data"
      ],
      "metadata": {
        "id": "Drm9VwC4ROvE"
      },
      "execution_count": 117,
      "outputs": []
    },
    {
      "cell_type": "code",
      "source": [
        "#using scatter plt \n",
        "plt.scatter(X[idx==0,0],X[idx==0,1],s=100,c='red',label='Cluster1',alpha=0.5)\n",
        "plt.scatter(X[idx==1,0],X[idx==1,1],s=100,c='blue',label='Cluster2',alpha=0.5)\n",
        "plt.scatter(X[idx==2,0],X[idx==2,1],s=100,c='green',label='Cluster3',alpha=0.5)\n",
        "plt.scatter(X[idx==3,0],X[idx==3,1],s=100,c='cyan',label='Cluster4',alpha=0.5)\n",
        "plt.scatter(X[idx==4,0],X[idx==4,1],s=100,c='black',label='Cluster5',alpha=0.5)\n",
        "plt.scatter(centroids[:,0],centroids[:,1],s=200, c='yellow', alpha = 0.8)\n",
        "plt.legend()\n",
        "plt.show()"
      ],
      "metadata": {
        "colab": {
          "base_uri": "https://localhost:8080/",
          "height": 265
        },
        "id": "_4yxPcCkZYIC",
        "outputId": "6f10166a-462d-41ba-88cc-fe1405a6faf0"
      },
      "execution_count": 122,
      "outputs": [
        {
          "output_type": "display_data",
          "data": {
            "text/plain": [
              "<Figure size 432x288 with 1 Axes>"
            ],
            "image/png": "[encoded data removed]"
          },
          "metadata": {
            "needs_background": "light"
          }
        }
      ]
    },
    {
      "cell_type": "code",
      "source": [
        "#Finally to get the details of which stock is actually in which cluster we can run the following line \n",
        "# of code to carry out a list comprehension to create a list of tuples in the (Stock Name, Cluster Number) format\n",
        "details = [(name,cluster) for name, cluster in zip(returns.index,idx)]"
      ],
      "metadata": {
        "id": "0ZlHbvAoc3F3"
      },
      "execution_count": 119,
      "outputs": []
    },
    {
      "cell_type": "code",
      "source": [
        "labels =['Stock Symbol', 'Cluster']\n",
        "df = pd.DataFrame.from_records(details, columns=labels)\n",
        "df.head(n=24)\n",
        "list1=list(df['Cluster'==1])"
      ],
      "metadata": {
        "colab": {
          "base_uri": "https://localhost:8080/",
          "height": 793
        },
        "id": "DWcZzl4fiOIs",
        "outputId": "82a13c1f-8450-434b-934b-30c41f39d599"
      },
      "execution_count": 121,
      "outputs": [
        {
          "output_type": "execute_result",
          "data": {
            "text/plain": [
              "   Stock Symbol  Cluster\n",
              "0          AAPL        1\n",
              "1          AMZN        1\n",
              "2           AXP        4\n",
              "3            BA        0\n",
              "4           BAC        4\n",
              "5           CVX        2\n",
              "6             F        4\n",
              "7            GE        0\n",
              "8           HMC        2\n",
              "9           IBM        2\n",
              "10         INTC        4\n",
              "11          JNJ        3\n",
              "12           KO        3\n",
              "13          LMT        3\n",
              "14           MA        4\n",
              "15          MCD        3\n",
              "16         MSFT        1\n",
              "17          NOC        3\n",
              "18          PEP        3\n",
              "19           TM        3\n",
              "20          TXN        4\n",
              "21          VLO        0\n",
              "22          WBA        2\n",
              "23          XOM        2"
            ],
            "text/html": [
              "\n",
              "  <div id=\"df-be49766b-62a3-4718-b06b-4ce52dbcbe8c\">\n",
              "    <div class=\"colab-df-container\">\n",
              "      <div>\n",
              "<style scoped>\n",
              "    .dataframe tbody tr th:only-of-type {\n",
              "        vertical-align: middle;\n",
              "    }\n",
              "\n",
              "    .dataframe tbody tr th {\n",
              "        vertical-align: top;\n",
              "    }\n",
              "\n",
              "    .dataframe thead th {\n",
              "        text-align: right;\n",
              "    }\n",
              "</style>\n",
              "<table border=\"1\" class=\"dataframe\">\n",
              "  <thead>\n",
              "    <tr style=\"text-align: right;\">\n",
              "      <th></th>\n",
              "      <th>Stock Symbol</th>\n",
              "      <th>Cluster</th>\n",
              "    </tr>\n",
              "  </thead>\n",
              "  <tbody>\n",
              "    <tr>\n",
              "      <th>0</th>\n",
              "      <td>AAPL</td>\n",
              "      <td>1</td>\n",
              "    </tr>\n",
              "    <tr>\n",
              "      <th>1</th>\n",
              "      <td>AMZN</td>\n",
              "      <td>1</td>\n",
              "    </tr>\n",
              "    <tr>\n",
              "      <th>2</th>\n",
              "      <td>AXP</td>\n",
              "      <td>4</td>\n",
              "    </tr>\n",
              "    <tr>\n",
              "      <th>3</th>\n",
              "      <td>BA</td>\n",
              "      <td>0</td>\n",
              "    </tr>\n",
              "    <tr>\n",
              "      <th>4</th>\n",
              "      <td>BAC</td>\n",
              "      <td>4</td>\n",
              "    </tr>\n",
              "    <tr>\n",
              "      <th>5</th>\n",
              "      <td>CVX</td>\n",
              "      <td>2</td>\n",
              "    </tr>\n",
              "    <tr>\n",
              "      <th>6</th>\n",
              "      <td>F</td>\n",
              "      <td>4</td>\n",
              "    </tr>\n",
              "    <tr>\n",
              "      <th>7</th>\n",
              "      <td>GE</td>\n",
              "      <td>0</td>\n",
              "    </tr>\n",
              "    <tr>\n",
              "      <th>8</th>\n",
              "      <td>HMC</td>\n",
              "      <td>2</td>\n",
              "    </tr>\n",
              "    <tr>\n",
              "      <th>9</th>\n",
              "      <td>IBM</td>\n",
              "      <td>2</td>\n",
              "    </tr>\n",
              "    <tr>\n",
              "      <th>10</th>\n",
              "      <td>INTC</td>\n",
              "      <td>4</td>\n",
              "    </tr>\n",
              "    <tr>\n",
              "      <th>11</th>\n",
              "      <td>JNJ</td>\n",
              "      <td>3</td>\n",
              "    </tr>\n",
              "    <tr>\n",
              "      <th>12</th>\n",
              "      <td>KO</td>\n",
              "      <td>3</td>\n",
              "    </tr>\n",
              "    <tr>\n",
              "      <th>13</th>\n",
              "      <td>LMT</td>\n",
              "      <td>3</td>\n",
              "    </tr>\n",
              "    <tr>\n",
              "      <th>14</th>\n",
              "      <td>MA</td>\n",
              "      <td>4</td>\n",
              "    </tr>\n",
              "    <tr>\n",
              "      <th>15</th>\n",
              "      <td>MCD</td>\n",
              "      <td>3</td>\n",
              "    </tr>\n",
              "    <tr>\n",
              "      <th>16</th>\n",
              "      <td>MSFT</td>\n",
              "      <td>1</td>\n",
              "    </tr>\n",
              "    <tr>\n",
              "      <th>17</th>\n",
              "      <td>NOC</td>\n",
              "      <td>3</td>\n",
              "    </tr>\n",
              "    <tr>\n",
              "      <th>18</th>\n",
              "      <td>PEP</td>\n",
              "      <td>3</td>\n",
              "    </tr>\n",
              "    <tr>\n",
              "      <th>19</th>\n",
              "      <td>TM</td>\n",
              "      <td>3</td>\n",
              "    </tr>\n",
              "    <tr>\n",
              "      <th>20</th>\n",
              "      <td>TXN</td>\n",
              "      <td>4</td>\n",
              "    </tr>\n",
              "    <tr>\n",
              "      <th>21</th>\n",
              "      <td>VLO</td>\n",
              "      <td>0</td>\n",
              "    </tr>\n",
              "    <tr>\n",
              "      <th>22</th>\n",
              "      <td>WBA</td>\n",
              "      <td>2</td>\n",
              "    </tr>\n",
              "    <tr>\n",
              "      <th>23</th>\n",
              "      <td>XOM</td>\n",
              "      <td>2</td>\n",
              "    </tr>\n",
              "  </tbody>\n",
              "</table>\n",
              "</div>\n",
              "      <button class=\"colab-df-convert\" onclick=\"convertToInteractive('df-be49766b-62a3-4718-b06b-4ce52dbcbe8c')\"\n",
              "              title=\"Convert this dataframe to an interactive table.\"\n",
              "              style=\"display:none;\">\n",
              "        \n",
              "  <svg xmlns=\"http://www.w3.org/2000/svg\" height=\"24px\"viewBox=\"0 0 24 24\"\n",
              "       width=\"24px\">\n",
              "    <path d=\"M0 0h24v24H0V0z\" fill=\"none\"/>\n",
              "    <path d=\"M18.56 5.44l.94 2.06.94-2.06 2.06-.94-2.06-.94-.94-2.06-.94 2.06-2.06.94zm-11 1L8.5 8.5l.94-2.06 2.06-.94-2.06-.94L8.5 2.5l-.94 2.06-2.06.94zm10 10l.94 2.06.94-2.06 2.06-.94-2.06-.94-.94-2.06-.94 2.06-2.06.94z\"/><path d=\"M17.41 7.96l-1.37-1.37c-.4-.4-.92-.59-1.43-.59-.52 0-1.04.2-1.43.59L10.3 9.45l-7.72 7.72c-.78.78-.78 2.05 0 2.83L4 21.41c.39.39.9.59 1.41.59.51 0 1.02-.2 1.41-.59l7.78-7.78 2.81-2.81c.8-.78.8-2.07 0-2.86zM5.41 20L4 18.59l7.72-7.72 1.47 1.35L5.41 20z\"/>\n",
              "  </svg>\n",
              "      </button>\n",
              "      \n",
              "  <style>\n",
              "    .colab-df-container {\n",
              "      display:flex;\n",
              "      flex-wrap:wrap;\n",
              "      gap: 12px;\n",
              "    }\n",
              "\n",
              "    .colab-df-convert {\n",
              "      background-color: #E8F0FE;\n",
              "      border: none;\n",
              "      border-radius: 50%;\n",
              "      cursor: pointer;\n",
              "      display: none;\n",
              "      fill: #1967D2;\n",
              "      height: 32px;\n",
              "      padding: 0 0 0 0;\n",
              "      width: 32px;\n",
              "    }\n",
              "\n",
              "    .colab-df-convert:hover {\n",
              "      background-color: #E2EBFA;\n",
              "      box-shadow: 0px 1px 2px rgba(60, 64, 67, 0.3), 0px 1px 3px 1px rgba(60, 64, 67, 0.15);\n",
              "      fill: #174EA6;\n",
              "    }\n",
              "\n",
              "    [theme=dark] .colab-df-convert {\n",
              "      background-color: #3B4455;\n",
              "      fill: #D2E3FC;\n",
              "    }\n",
              "\n",
              "    [theme=dark] .colab-df-convert:hover {\n",
              "      background-color: #434B5C;\n",
              "      box-shadow: 0px 1px 3px 1px rgba(0, 0, 0, 0.15);\n",
              "      filter: drop-shadow(0px 1px 2px rgba(0, 0, 0, 0.3));\n",
              "      fill: #FFFFFF;\n",
              "    }\n",
              "  </style>\n",
              "\n",
              "      <script>\n",
              "        const buttonEl =\n",
              "          document.querySelector('#df-be49766b-62a3-4718-b06b-4ce52dbcbe8c button.colab-df-convert');\n",
              "        buttonEl.style.display =\n",
              "          google.colab.kernel.accessAllowed ? 'block' : 'none';\n",
              "\n",
              "        async function convertToInteractive(key) {\n",
              "          const element = document.querySelector('#df-be49766b-62a3-4718-b06b-4ce52dbcbe8c');\n",
              "          const dataTable =\n",
              "            await google.colab.kernel.invokeFunction('convertToInteractive',\n",
              "                                                     [key], {});\n",
              "          if (!dataTable) return;\n",
              "\n",
              "          const docLinkHtml = 'Like what you see? Visit the ' +\n",
              "            '<a target=\"_blank\" href=https://colab.research.google.com/notebooks/data_table.ipynb>data table notebook</a>'\n",
              "            + ' to learn more about interactive tables.';\n",
              "          element.innerHTML = '';\n",
              "          dataTable['output_type'] = 'display_data';\n",
              "          await google.colab.output.renderOutput(dataTable, element);\n",
              "          const docLink = document.createElement('div');\n",
              "          docLink.innerHTML = docLinkHtml;\n",
              "          element.appendChild(docLink);\n",
              "        }\n",
              "      </script>\n",
              "    </div>\n",
              "  </div>\n",
              "  "
            ]
          },
          "metadata": {},
          "execution_count": 121
        }
      ]
    },
    {
      "cell_type": "code",
      "source": [
        "print(df[df['Cluster']==1])\n",
        "print(df[df['Cluster']==2])\n",
        "print(df[df['Cluster']==3])\n",
        "print(df[df['Cluster']==4])\n",
        "print(df[df['Cluster']==0])"
      ],
      "metadata": {
        "colab": {
          "base_uri": "https://localhost:8080/"
        },
        "id": "WnAryAm5iPQq",
        "outputId": "b52da5f4-0587-4e82-9e36-9d44b1ca2a7b"
      },
      "execution_count": 137,
      "outputs": [
        {
          "output_type": "stream",
          "name": "stdout",
          "text": [
            "   Stock Symbol  Cluster\n",
            "0          AAPL        1\n",
            "1          AMZN        1\n",
            "16         MSFT        1\n",
            "   Stock Symbol  Cluster\n",
            "5           CVX        2\n",
            "8           HMC        2\n",
            "9           IBM        2\n",
            "22          WBA        2\n",
            "23          XOM        2\n",
            "   Stock Symbol  Cluster\n",
            "11          JNJ        3\n",
            "12           KO        3\n",
            "13          LMT        3\n",
            "15          MCD        3\n",
            "17          NOC        3\n",
            "18          PEP        3\n",
            "19           TM        3\n",
            "   Stock Symbol  Cluster\n",
            "2           AXP        4\n",
            "4           BAC        4\n",
            "6             F        4\n",
            "10         INTC        4\n",
            "14           MA        4\n",
            "20          TXN        4\n",
            "   Stock Symbol  Cluster\n",
            "3            BA        0\n",
            "7            GE        0\n",
            "21          VLO        0\n"
          ]
        }
      ]
    },
    {
      "cell_type": "code",
      "source": [],
      "metadata": {
        "id": "wYAAWjTzzvc9"
      },
      "execution_count": null,
      "outputs": []
    }
  ]
}
